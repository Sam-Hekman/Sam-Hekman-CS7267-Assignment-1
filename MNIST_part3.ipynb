{
 "cells": [
  {
   "cell_type": "code",
   "execution_count": 1,
   "id": "1a1bc4b2",
   "metadata": {},
   "outputs": [],
   "source": [
    "# Scikit-learn version 0.24.2\n",
    "from sklearn.datasets import fetch_openml\n",
    "from sklearn.neighbors import KNeighborsClassifier\n",
    "from sklearn.metrics import precision_recall_curve\n",
    "from sklearn.metrics import confusion_matrix\n",
    "from sklearn.metrics import plot_confusion_matrix\n",
    "from sklearn.metrics import f1_score\n",
    "from sklearn.metrics import accuracy_score\n",
    "from sklearn.metrics import precision_score\n",
    "from sklearn.metrics import classification_report\n",
    "from sklearn.model_selection import train_test_split\n",
    "from sklearn.model_selection import cross_val_predict\n",
    "from sklearn.model_selection import cross_val_score\n",
    "import numpy as np\n",
    "import matplotlib as mpl\n",
    "import matplotlib.pyplot as plt"
   ]
  },
  {
   "cell_type": "code",
   "execution_count": 2,
   "id": "9dc7017e",
   "metadata": {},
   "outputs": [],
   "source": [
    "mnist = fetch_openml('mnist_784', version=1)\n",
    "X, y = mnist[\"data\"], mnist[\"target\"]\n",
    "y = y.astype(np.uint8)\n",
    "X_tr, X_ts, y_tr, y_ts = train_test_split(X, y, test_size=10000, random_state=42)"
   ]
  },
  {
   "cell_type": "code",
   "execution_count": 3,
   "id": "e7c673b2",
   "metadata": {},
   "outputs": [
    {
     "data": {
      "text/plain": [
       "KNeighborsClassifier(n_neighbors=4, weights='distance')"
      ]
     },
     "execution_count": 3,
     "metadata": {},
     "output_type": "execute_result"
    }
   ],
   "source": [
    "knn_clf = KNeighborsClassifier(weights='distance', n_neighbors=4)\n",
    "knn_clf.fit(X_tr, y_tr)"
   ]
  },
  {
   "cell_type": "code",
   "execution_count": 4,
   "id": "5933de47",
   "metadata": {},
   "outputs": [
    {
     "data": {
      "text/plain": [
       "array([0.97195, 0.9737 , 0.97035])"
      ]
     },
     "execution_count": 4,
     "metadata": {},
     "output_type": "execute_result"
    }
   ],
   "source": [
    "cross_val_score(knn_clf, X_tr, y_tr, cv=3, scoring =\"accuracy\")"
   ]
  },
  {
   "cell_type": "code",
   "execution_count": 5,
   "id": "9a1f0fd2",
   "metadata": {},
   "outputs": [],
   "source": [
    "y_tr_pred = cross_val_predict(knn_clf, X_tr, y_tr, cv=3)"
   ]
  },
  {
   "cell_type": "code",
   "execution_count": 6,
   "id": "d34565aa",
   "metadata": {},
   "outputs": [
    {
     "data": {
      "text/plain": [
       "0.9729"
      ]
     },
     "execution_count": 6,
     "metadata": {},
     "output_type": "execute_result"
    }
   ],
   "source": [
    "y_tr_pred_acc = knn_clf.predict(X_ts)\n",
    "accuracy_score(y_ts, y_tr_pred_acc)"
   ]
  },
  {
   "cell_type": "code",
   "execution_count": 7,
   "id": "5a3427a7",
   "metadata": {},
   "outputs": [
    {
     "name": "stdout",
     "output_type": "stream",
     "text": [
      "              precision    recall  f1-score   support\n",
      "\n",
      "     class 0       0.98      0.99      0.99      5920\n",
      "     class 1       0.96      0.99      0.98      6725\n",
      "     class 2       0.99      0.96      0.98      6023\n",
      "     class 3       0.97      0.97      0.97      6107\n",
      "     class 4       0.98      0.97      0.97      5918\n",
      "     class 5       0.97      0.96      0.96      5376\n",
      "     class 6       0.98      0.99      0.98      5915\n",
      "     class 7       0.97      0.97      0.97      6238\n",
      "     class 8       0.99      0.94      0.96      5856\n",
      "     class 9       0.95      0.96      0.96      5922\n",
      "\n",
      "    accuracy                           0.97     60000\n",
      "   macro avg       0.97      0.97      0.97     60000\n",
      "weighted avg       0.97      0.97      0.97     60000\n",
      "\n"
     ]
    }
   ],
   "source": [
    "target_names = [\"class 0\", \"class 1\", \"class 2\", \"class 3\", \"class 4\", \"class 5\", \"class 6\", \"class 7\", \"class 8\", \"class 9\"]\n",
    "print(classification_report(y_tr, y_tr_pred, target_names=target_names))"
   ]
  },
  {
   "cell_type": "code",
   "execution_count": 14,
   "id": "9d922f73",
   "metadata": {},
   "outputs": [
    {
     "data": {
      "text/plain": [
       "array([[5879,    6,    2,    1,    1,    6,   19,    2,    0,    4],\n",
       "       [   1, 6689,   11,    1,    3,    1,    3,   13,    1,    2],\n",
       "       [  39,   43, 5810,   22,    5,    2,    5,   76,   14,    7],\n",
       "       [   3,   13,   24, 5903,    1,   66,    3,   37,   36,   21],\n",
       "       [   3,   45,    1,    1, 5724,    0,   18,   14,    2,  110],\n",
       "       [  18,    4,    1,   54,    9, 5178,   57,    5,   15,   35],\n",
       "       [  22,   13,    1,    0,    4,   16, 5857,    0,    2,    0],\n",
       "       [   2,   58,   13,    2,   14,    1,    0, 6079,    3,   66],\n",
       "       [  20,   64,   14,   72,   22,   75,   23,   10, 5494,   62],\n",
       "       [  16,   17,    7,   26,   62,   15,    2,   61,    9, 5707]],\n",
       "      dtype=int64)"
      ]
     },
     "execution_count": 14,
     "metadata": {},
     "output_type": "execute_result"
    }
   ],
   "source": [
    "confusion_matrix(y_tr, y_tr_pred)"
   ]
  },
  {
   "cell_type": "code",
   "execution_count": 8,
   "id": "f16e6949",
   "metadata": {},
   "outputs": [
    {
     "data": {
      "text/plain": [
       "<function matplotlib.pyplot.show(close=None, block=None)>"
      ]
     },
     "execution_count": 8,
     "metadata": {},
     "output_type": "execute_result"
    },
    {
     "data": {
      "image/png": "[encoded data removed]",
      "text/plain": [
       "<Figure size 432x288 with 2 Axes>"
      ]
     },
     "metadata": {
      "needs_background": "light"
     },
     "output_type": "display_data"
    }
   ],
   "source": [
    "plot_confusion_matrix(knn_clf, X_ts, y_ts)\n",
    "plt.show"
   ]
  },
  {
   "cell_type": "code",
   "execution_count": 9,
   "id": "bab10324",
   "metadata": {},
   "outputs": [],
   "source": [
    "cm = confusion_matrix(y_tr, y_tr_pred)\n",
    "row_sums = cm.sum(axis=1, keepdims=True)\n",
    "norm_cm = cm / row_sums"
   ]
  },
  {
   "cell_type": "code",
   "execution_count": 10,
   "id": "c79a4871",
   "metadata": {},
   "outputs": [
    {
     "data": {
      "text/plain": [
       "<function matplotlib.pyplot.show(close=None, block=None)>"
      ]
     },
     "execution_count": 10,
     "metadata": {},
     "output_type": "execute_result"
    },
    {
     "data": {
      "image/png": "[encoded data removed]",
      "text/plain": [
       "<Figure size 288x288 with 1 Axes>"
      ]
     },
     "metadata": {
      "needs_background": "light"
     },
     "output_type": "display_data"
    }
   ],
   "source": [
    "np.fill_diagonal(norm_cm, 0)\n",
    "plt.matshow(norm_cm, cmap=plt.cm.viridis)\n",
    "plt.show"
   ]
  },
  {
   "cell_type": "code",
   "execution_count": null,
   "id": "364ac666",
   "metadata": {},
   "outputs": [],
   "source": []
  }
 ],
 "metadata": {
  "kernelspec": {
   "display_name": "Python 3 (ipykernel)",
   "language": "python",
   "name": "python3"
  },
  "language_info": {
   "codemirror_mode": {
    "name": "ipython",
    "version": 3
   },
   "file_extension": ".py",
   "mimetype": "text/x-python",
   "name": "python",
   "nbconvert_exporter": "python",
   "pygments_lexer": "ipython3",
   "version": "3.9.7"
  }
 },
 "nbformat": 4,
 "nbformat_minor": 5
}
