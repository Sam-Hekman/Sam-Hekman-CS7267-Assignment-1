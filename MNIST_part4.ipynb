{
 "cells": [
  {
   "cell_type": "code",
   "execution_count": 43,
   "id": "b155fac8",
   "metadata": {},
   "outputs": [],
   "source": [
    "# Scikit-learn version 0.24.2\n",
    "from sklearn.datasets import fetch_openml\n",
    "from sklearn.neighbors import KNeighborsClassifier\n",
    "from sklearn.metrics import precision_recall_curve\n",
    "from sklearn.metrics import confusion_matrix\n",
    "from sklearn.metrics import plot_confusion_matrix\n",
    "from sklearn.metrics import f1_score\n",
    "from sklearn.metrics import accuracy_score\n",
    "from sklearn.metrics import precision_score\n",
    "from sklearn.metrics import classification_report\n",
    "from scipy.ndimage.interpolation import shift\n",
    "from sklearn.model_selection import train_test_split\n",
    "from sklearn.model_selection import cross_val_predict\n",
    "from sklearn.model_selection import cross_val_score\n",
    "import numpy as np\n",
    "import matplotlib as mpl\n",
    "import matplotlib.pyplot as plt\n",
    "# Import SciPy's shift function for moving a matrix in some direction\n",
    "from scipy.ndimage.interpolation import shift"
   ]
  },
  {
   "cell_type": "code",
   "execution_count": 44,
   "id": "2bd2109a",
   "metadata": {},
   "outputs": [],
   "source": [
    "mnist = fetch_openml('mnist_784', version=1, as_frame = False)\n",
    "X, y = mnist[\"data\"], mnist[\"target\"]\n",
    "y = y.astype(np.uint8)\n",
    "X_tr, X_ts, y_tr, y_ts = train_test_split(X, y, test_size=10000, random_state=42)"
   ]
  },
  {
   "cell_type": "code",
   "execution_count": 45,
   "id": "92e514c5",
   "metadata": {},
   "outputs": [],
   "source": [
    "# Make copies of elements from x and the labels from y\n",
    "X_tr_shifted = [digit for digit in X_tr]\n",
    "y_tr_shifted = [label for label in y_tr]\n",
    "\n",
    "def shift_pixels(matrix, j, k):\n",
    "    maxtrix = matrix.reshape((28, 28))\n",
    "    new_matrix = shift(maxtrix, [k, j], cval=0, mode=\"constant\")\n",
    "    return new_matrix.reshape([-1])\n",
    "\n",
    "# shift up, down, right, or left by 1 pixel\n",
    "for j, k in ((1, 0), (-1, 0), (0, 1), (0, -1)):\n",
    "    # give images from x the corresponding label from y\n",
    "    for digit, label in zip(X_tr, y_tr):\n",
    "        # Shift digit by one pixel, add corresponding label\n",
    "        X_tr_shifted.append(shift_pixels(digit, j, k))\n",
    "        y_tr_shifted.append(label)\n",
    "\n",
    "# convert back to numpy arrays\n",
    "X_tr_shifted = np.array(X_tr_shifted)\n",
    "y_tr_shifted = np.array(y_tr_shifted)\n",
    "# Randomize \n",
    "shuffled_tr = np.random.permutation(len(X_tr_shifted))\n",
    "X_tr_shifted = X_tr_shifted[shuffled_tr]\n",
    "y_tr_shifted = y_tr_shifted[shuffled_tr]"
   ]
  },
  {
   "cell_type": "code",
   "execution_count": 46,
   "id": "e5ae382a",
   "metadata": {},
   "outputs": [
    {
     "data": {
      "text/plain": [
       "KNeighborsClassifier(n_neighbors=4, weights='distance')"
      ]
     },
     "execution_count": 46,
     "metadata": {},
     "output_type": "execute_result"
    }
   ],
   "source": [
    "knn_clf = KNeighborsClassifier(weights='distance', n_neighbors=4)\n",
    "knn_clf.fit(X_tr_shifted, y_tr_shifted)"
   ]
  },
  {
   "cell_type": "code",
   "execution_count": 47,
   "id": "8e0caed2",
   "metadata": {},
   "outputs": [],
   "source": [
    "y_tr_pred = cross_val_predict(knn_clf, X_tr_shifted, y_tr_shifted, cv=3)"
   ]
  },
  {
   "cell_type": "code",
   "execution_count": 48,
   "id": "6fe59ba0",
   "metadata": {
    "scrolled": true
   },
   "outputs": [
    {
     "name": "stdout",
     "output_type": "stream",
     "text": [
      "              precision    recall  f1-score   support\n",
      "\n",
      "     class 0       0.99      1.00      0.99     29600\n",
      "     class 1       0.97      1.00      0.99     33625\n",
      "     class 2       0.99      0.98      0.99     30115\n",
      "     class 3       0.98      0.98      0.98     30535\n",
      "     class 4       0.99      0.98      0.98     29590\n",
      "     class 5       0.98      0.98      0.98     26880\n",
      "     class 6       0.99      0.99      0.99     29575\n",
      "     class 7       0.98      0.98      0.98     31190\n",
      "     class 8       0.99      0.96      0.98     29280\n",
      "     class 9       0.97      0.98      0.97     29610\n",
      "\n",
      "    accuracy                           0.98    300000\n",
      "   macro avg       0.98      0.98      0.98    300000\n",
      "weighted avg       0.98      0.98      0.98    300000\n",
      "\n"
     ]
    }
   ],
   "source": [
    "target_names = [\"class 0\", \"class 1\", \"class 2\", \"class 3\", \"class 4\", \"class 5\", \"class 6\", \"class 7\", \"class 8\", \"class 9\"]\n",
    "print(classification_report(y_tr_shifted, y_tr_pred, target_names=target_names))"
   ]
  },
  {
   "cell_type": "code",
   "execution_count": 49,
   "id": "4edd5081",
   "metadata": {},
   "outputs": [
    {
     "data": {
      "text/plain": [
       "array([[29496,    20,     3,     3,     5,    15,    38,     8,     2,\n",
       "           10],\n",
       "       [    0, 33551,    23,     1,     6,     0,     7,    23,     5,\n",
       "            9],\n",
       "       [  108,   106, 29473,    46,     7,    10,    14,   310,    25,\n",
       "           16],\n",
       "       [    8,    40,    60, 30046,     1,   156,     3,    99,    73,\n",
       "           49],\n",
       "       [   13,   195,     1,     1, 28993,     0,    29,    29,     2,\n",
       "          327],\n",
       "       [   46,    17,    10,   131,    15, 26363,   205,     6,    20,\n",
       "           67],\n",
       "       [   63,    56,     0,     1,    10,    46, 29389,     0,    10,\n",
       "            0],\n",
       "       [    2,   261,    39,     3,    32,     5,     0, 30701,     5,\n",
       "          142],\n",
       "       [   43,   167,    45,   253,    49,   203,   122,    50, 28136,\n",
       "          212],\n",
       "       [   43,    70,    10,    85,   187,    44,     3,   226,    16,\n",
       "        28926]], dtype=int64)"
      ]
     },
     "execution_count": 49,
     "metadata": {},
     "output_type": "execute_result"
    }
   ],
   "source": [
    "confusion_matrix(y_tr_shifted, y_tr_pred)"
   ]
  },
  {
   "cell_type": "code",
   "execution_count": 50,
   "id": "db29a7e5",
   "metadata": {},
   "outputs": [
    {
     "data": {
      "text/plain": [
       "<function matplotlib.pyplot.show(close=None, block=None)>"
      ]
     },
     "execution_count": 50,
     "metadata": {},
     "output_type": "execute_result"
    },
    {
     "data": {
      "image/png": "[encoded data removed]",
      "text/plain": [
       "<Figure size 432x288 with 2 Axes>"
      ]
     },
     "metadata": {
      "needs_background": "light"
     },
     "output_type": "display_data"
    }
   ],
   "source": [
    "plot_confusion_matrix(knn_clf, X_ts, y_ts)\n",
    "plt.show"
   ]
  },
  {
   "cell_type": "code",
   "execution_count": 52,
   "id": "7c7cb5bd",
   "metadata": {},
   "outputs": [],
   "source": [
    "cm = confusion_matrix(y_tr_shifted, y_tr_pred)\n",
    "row_sums = cm.sum(axis=1, keepdims=True)\n",
    "norm_cm = cm / row_sums"
   ]
  },
  {
   "cell_type": "code",
   "execution_count": 53,
   "id": "5d45896f",
   "metadata": {},
   "outputs": [
    {
     "data": {
      "text/plain": [
       "<function matplotlib.pyplot.show(close=None, block=None)>"
      ]
     },
     "execution_count": 53,
     "metadata": {},
     "output_type": "execute_result"
    },
    {
     "data": {
      "image/png": "[encoded data removed]",
      "text/plain": [
       "<Figure size 288x288 with 1 Axes>"
      ]
     },
     "metadata": {
      "needs_background": "light"
     },
     "output_type": "display_data"
    }
   ],
   "source": [
    "np.fill_diagonal(norm_cm, 0)\n",
    "plt.matshow(norm_cm, cmap=plt.cm.viridis)\n",
    "plt.show"
   ]
  },
  {
   "cell_type": "code",
   "execution_count": null,
   "id": "7cb8cf0b",
   "metadata": {},
   "outputs": [],
   "source": []
  }
 ],
 "metadata": {
  "kernelspec": {
   "display_name": "Python 3 (ipykernel)",
   "language": "python",
   "name": "python3"
  },
  "language_info": {
   "codemirror_mode": {
    "name": "ipython",
    "version": 3
   },
   "file_extension": ".py",
   "mimetype": "text/x-python",
   "name": "python",
   "nbconvert_exporter": "python",
   "pygments_lexer": "ipython3",
   "version": "3.9.7"
  }
 },
 "nbformat": 4,
 "nbformat_minor": 5
}
